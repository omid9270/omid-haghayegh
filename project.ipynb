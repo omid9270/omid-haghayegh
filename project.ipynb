{
 "cells": [
  {
   "cell_type": "code",
   "execution_count": 374,
   "metadata": {
    "id": "WaulVvFZpjZQ"
   },
   "outputs": [],
   "source": [
    "import pandas as pd"
   ]
  },
  {
   "cell_type": "code",
   "execution_count": 375,
   "metadata": {
    "id": "46dQVshqpjZS"
   },
   "outputs": [],
   "source": [
    "diabetes_overfit = pd.read_csv(\"diabetes.csv\")"
   ]
  },
  {
   "cell_type": "code",
   "execution_count": 376,
   "metadata": {
    "colab": {
     "base_uri": "https://localhost:8080/",
     "height": 226
    },
    "id": "7o9ydv89pjZS",
    "outputId": "294f2ea8-94c8-4208-cbea-11f1fc20d2a6"
   },
   "outputs": [
    {
     "data": {
      "text/html": [
       "<div>\n",
       "<style scoped>\n",
       "    .dataframe tbody tr th:only-of-type {\n",
       "        vertical-align: middle;\n",
       "    }\n",
       "\n",
       "    .dataframe tbody tr th {\n",
       "        vertical-align: top;\n",
       "    }\n",
       "\n",
       "    .dataframe thead th {\n",
       "        text-align: right;\n",
       "    }\n",
       "</style>\n",
       "<table border=\"1\" class=\"dataframe\">\n",
       "  <thead>\n",
       "    <tr style=\"text-align: right;\">\n",
       "      <th></th>\n",
       "      <th>gender</th>\n",
       "      <th>age</th>\n",
       "      <th>hypertension</th>\n",
       "      <th>heart_disease</th>\n",
       "      <th>smoking_history</th>\n",
       "      <th>bmi</th>\n",
       "      <th>HbA1c_level</th>\n",
       "      <th>blood_glucose_level</th>\n",
       "      <th>diabetes</th>\n",
       "    </tr>\n",
       "  </thead>\n",
       "  <tbody>\n",
       "    <tr>\n",
       "      <th>0</th>\n",
       "      <td>Female</td>\n",
       "      <td>80.0</td>\n",
       "      <td>0</td>\n",
       "      <td>1</td>\n",
       "      <td>never</td>\n",
       "      <td>25.19</td>\n",
       "      <td>6.6</td>\n",
       "      <td>140</td>\n",
       "      <td>0</td>\n",
       "    </tr>\n",
       "    <tr>\n",
       "      <th>1</th>\n",
       "      <td>Female</td>\n",
       "      <td>54.0</td>\n",
       "      <td>0</td>\n",
       "      <td>0</td>\n",
       "      <td>No Info</td>\n",
       "      <td>27.32</td>\n",
       "      <td>6.6</td>\n",
       "      <td>80</td>\n",
       "      <td>0</td>\n",
       "    </tr>\n",
       "    <tr>\n",
       "      <th>2</th>\n",
       "      <td>Male</td>\n",
       "      <td>28.0</td>\n",
       "      <td>0</td>\n",
       "      <td>0</td>\n",
       "      <td>never</td>\n",
       "      <td>27.32</td>\n",
       "      <td>5.7</td>\n",
       "      <td>158</td>\n",
       "      <td>0</td>\n",
       "    </tr>\n",
       "    <tr>\n",
       "      <th>3</th>\n",
       "      <td>Female</td>\n",
       "      <td>36.0</td>\n",
       "      <td>0</td>\n",
       "      <td>0</td>\n",
       "      <td>current</td>\n",
       "      <td>23.45</td>\n",
       "      <td>5.0</td>\n",
       "      <td>155</td>\n",
       "      <td>0</td>\n",
       "    </tr>\n",
       "    <tr>\n",
       "      <th>4</th>\n",
       "      <td>Male</td>\n",
       "      <td>76.0</td>\n",
       "      <td>1</td>\n",
       "      <td>1</td>\n",
       "      <td>current</td>\n",
       "      <td>20.14</td>\n",
       "      <td>4.8</td>\n",
       "      <td>155</td>\n",
       "      <td>0</td>\n",
       "    </tr>\n",
       "  </tbody>\n",
       "</table>\n",
       "</div>"
      ],
      "text/plain": [
       "   gender   age  hypertension  heart_disease smoking_history    bmi  \\\n",
       "0  Female  80.0             0              1           never  25.19   \n",
       "1  Female  54.0             0              0         No Info  27.32   \n",
       "2    Male  28.0             0              0           never  27.32   \n",
       "3  Female  36.0             0              0         current  23.45   \n",
       "4    Male  76.0             1              1         current  20.14   \n",
       "\n",
       "   HbA1c_level  blood_glucose_level  diabetes  \n",
       "0          6.6                  140         0  \n",
       "1          6.6                   80         0  \n",
       "2          5.7                  158         0  \n",
       "3          5.0                  155         0  \n",
       "4          4.8                  155         0  "
      ]
     },
     "execution_count": 376,
     "metadata": {},
     "output_type": "execute_result"
    }
   ],
   "source": [
    "diabetes_overfit.head()"
   ]
  },
  {
   "cell_type": "code",
   "execution_count": 377,
   "metadata": {
    "colab": {
     "base_uri": "https://localhost:8080/",
     "height": 366
    },
    "id": "0ZQ7yy_tpjZU",
    "outputId": "8ad6cab4-81ea-41bc-bf51-774fc9040b22"
   },
   "outputs": [
    {
     "data": {
      "text/plain": [
       "gender                 0\n",
       "age                    0\n",
       "hypertension           0\n",
       "heart_disease          0\n",
       "smoking_history        0\n",
       "bmi                    0\n",
       "HbA1c_level            0\n",
       "blood_glucose_level    0\n",
       "diabetes               0\n",
       "dtype: int64"
      ]
     },
     "execution_count": 377,
     "metadata": {},
     "output_type": "execute_result"
    }
   ],
   "source": [
    "diabetes_overfit.isnull().sum()"
   ]
  },
  {
   "cell_type": "code",
   "execution_count": 378,
   "metadata": {
    "colab": {
     "base_uri": "https://localhost:8080/"
    },
    "id": "YNRo05NSpjZU",
    "outputId": "90e7cbe9-e389-4c2f-f0d0-f245ed55b3ef"
   },
   "outputs": [
    {
     "data": {
      "text/plain": [
       "array(['never', 'No Info', 'current', 'former', 'ever', 'not current'],\n",
       "      dtype=object)"
      ]
     },
     "execution_count": 378,
     "metadata": {},
     "output_type": "execute_result"
    }
   ],
   "source": [
    "diabetes_overfit['smoking_history'].unique()"
   ]
  },
  {
   "cell_type": "code",
   "execution_count": 379,
   "metadata": {
    "id": "A9le_VHlpjZV"
   },
   "outputs": [],
   "source": [
    "diabetes_overfit.drop('smoking_history', axis=1, inplace=True)\n"
   ]
  },
  {
   "cell_type": "code",
   "execution_count": 380,
   "metadata": {
    "colab": {
     "base_uri": "https://localhost:8080/",
     "height": 206
    },
    "id": "3OkMa-kSpjZV",
    "outputId": "9a54484e-92f4-4d08-ff22-ea17281ca6f1"
   },
   "outputs": [
    {
     "data": {
      "text/html": [
       "<div>\n",
       "<style scoped>\n",
       "    .dataframe tbody tr th:only-of-type {\n",
       "        vertical-align: middle;\n",
       "    }\n",
       "\n",
       "    .dataframe tbody tr th {\n",
       "        vertical-align: top;\n",
       "    }\n",
       "\n",
       "    .dataframe thead th {\n",
       "        text-align: right;\n",
       "    }\n",
       "</style>\n",
       "<table border=\"1\" class=\"dataframe\">\n",
       "  <thead>\n",
       "    <tr style=\"text-align: right;\">\n",
       "      <th></th>\n",
       "      <th>gender</th>\n",
       "      <th>age</th>\n",
       "      <th>hypertension</th>\n",
       "      <th>heart_disease</th>\n",
       "      <th>bmi</th>\n",
       "      <th>HbA1c_level</th>\n",
       "      <th>blood_glucose_level</th>\n",
       "      <th>diabetes</th>\n",
       "    </tr>\n",
       "  </thead>\n",
       "  <tbody>\n",
       "    <tr>\n",
       "      <th>0</th>\n",
       "      <td>Female</td>\n",
       "      <td>80.0</td>\n",
       "      <td>0</td>\n",
       "      <td>1</td>\n",
       "      <td>25.19</td>\n",
       "      <td>6.6</td>\n",
       "      <td>140</td>\n",
       "      <td>0</td>\n",
       "    </tr>\n",
       "    <tr>\n",
       "      <th>1</th>\n",
       "      <td>Female</td>\n",
       "      <td>54.0</td>\n",
       "      <td>0</td>\n",
       "      <td>0</td>\n",
       "      <td>27.32</td>\n",
       "      <td>6.6</td>\n",
       "      <td>80</td>\n",
       "      <td>0</td>\n",
       "    </tr>\n",
       "    <tr>\n",
       "      <th>2</th>\n",
       "      <td>Male</td>\n",
       "      <td>28.0</td>\n",
       "      <td>0</td>\n",
       "      <td>0</td>\n",
       "      <td>27.32</td>\n",
       "      <td>5.7</td>\n",
       "      <td>158</td>\n",
       "      <td>0</td>\n",
       "    </tr>\n",
       "    <tr>\n",
       "      <th>3</th>\n",
       "      <td>Female</td>\n",
       "      <td>36.0</td>\n",
       "      <td>0</td>\n",
       "      <td>0</td>\n",
       "      <td>23.45</td>\n",
       "      <td>5.0</td>\n",
       "      <td>155</td>\n",
       "      <td>0</td>\n",
       "    </tr>\n",
       "    <tr>\n",
       "      <th>4</th>\n",
       "      <td>Male</td>\n",
       "      <td>76.0</td>\n",
       "      <td>1</td>\n",
       "      <td>1</td>\n",
       "      <td>20.14</td>\n",
       "      <td>4.8</td>\n",
       "      <td>155</td>\n",
       "      <td>0</td>\n",
       "    </tr>\n",
       "  </tbody>\n",
       "</table>\n",
       "</div>"
      ],
      "text/plain": [
       "   gender   age  hypertension  heart_disease    bmi  HbA1c_level  \\\n",
       "0  Female  80.0             0              1  25.19          6.6   \n",
       "1  Female  54.0             0              0  27.32          6.6   \n",
       "2    Male  28.0             0              0  27.32          5.7   \n",
       "3  Female  36.0             0              0  23.45          5.0   \n",
       "4    Male  76.0             1              1  20.14          4.8   \n",
       "\n",
       "   blood_glucose_level  diabetes  \n",
       "0                  140         0  \n",
       "1                   80         0  \n",
       "2                  158         0  \n",
       "3                  155         0  \n",
       "4                  155         0  "
      ]
     },
     "execution_count": 380,
     "metadata": {},
     "output_type": "execute_result"
    }
   ],
   "source": [
    "diabetes_overfit.head()"
   ]
  },
  {
   "cell_type": "markdown",
   "metadata": {
    "id": "x3MyfFmOpjZW"
   },
   "source": [
    "Encode The Gender"
   ]
  },
  {
   "cell_type": "code",
   "execution_count": 381,
   "metadata": {
    "colab": {
     "base_uri": "https://localhost:8080/"
    },
    "id": "6Ssc9nonpjZX",
    "outputId": "2525f3ab-9f40-4688-bec4-0994b1c2f8b7"
   },
   "outputs": [
    {
     "data": {
      "text/plain": [
       "array(['Female', 'Male', 'Other'], dtype=object)"
      ]
     },
     "execution_count": 381,
     "metadata": {},
     "output_type": "execute_result"
    }
   ],
   "source": [
    "diabetes_overfit['gender'].unique()"
   ]
  },
  {
   "cell_type": "code",
   "execution_count": 382,
   "metadata": {
    "colab": {
     "base_uri": "https://localhost:8080/",
     "height": 209
    },
    "id": "3RTrDDIfpjZY",
    "outputId": "17ba8a7a-b14c-4400-f6e5-bd699b59073f"
   },
   "outputs": [
    {
     "data": {
      "text/plain": [
       "gender\n",
       "Female    58552\n",
       "Male      41430\n",
       "Other        18\n",
       "dtype: int64"
      ]
     },
     "execution_count": 382,
     "metadata": {},
     "output_type": "execute_result"
    }
   ],
   "source": [
    "diabetes_overfit.groupby('gender').size()"
   ]
  },
  {
   "cell_type": "code",
   "execution_count": 383,
   "metadata": {
    "id": "JSOGXIUepjZY"
   },
   "outputs": [],
   "source": [
    "diabetes_overfit = diabetes_overfit[diabetes_overfit['gender'] != 'Other']"
   ]
  },
  {
   "cell_type": "code",
   "execution_count": 384,
   "metadata": {
    "colab": {
     "base_uri": "https://localhost:8080/",
     "height": 178
    },
    "id": "bTig9myMpjZZ",
    "outputId": "8c63f777-0bd7-4bd5-a416-d404cc5c04e9"
   },
   "outputs": [
    {
     "data": {
      "text/plain": [
       "gender\n",
       "Female    58552\n",
       "Male      41430\n",
       "dtype: int64"
      ]
     },
     "execution_count": 384,
     "metadata": {},
     "output_type": "execute_result"
    }
   ],
   "source": [
    "diabetes_overfit.groupby('gender').size()"
   ]
  },
  {
   "cell_type": "code",
   "execution_count": 385,
   "metadata": {
    "colab": {
     "base_uri": "https://localhost:8080/",
     "height": 178
    },
    "id": "JBoUNudbpjZZ",
    "outputId": "c6e1e1d5-c8ec-4261-c72f-da893c0687d7"
   },
   "outputs": [
    {
     "data": {
      "text/plain": [
       "diabetes\n",
       "0    91482\n",
       "1     8500\n",
       "dtype: int64"
      ]
     },
     "execution_count": 385,
     "metadata": {},
     "output_type": "execute_result"
    }
   ],
   "source": [
    "diabetes_overfit.groupby('diabetes').size()"
   ]
  },
  {
   "cell_type": "code",
   "execution_count": 386,
   "metadata": {
    "colab": {
     "base_uri": "https://localhost:8080/",
     "height": 178
    },
    "id": "aSKjEUIjpjZZ",
    "outputId": "568e08d5-b283-453f-c99d-73620e7f5688"
   },
   "outputs": [
    {
     "data": {
      "text/plain": [
       "diabetes\n",
       "0    8500\n",
       "1    8500\n",
       "dtype: int64"
      ]
     },
     "execution_count": 386,
     "metadata": {},
     "output_type": "execute_result"
    }
   ],
   "source": [
    "class_1 = diabetes_overfit[diabetes_overfit['diabetes'] == 1]\n",
    "class_0 = diabetes_overfit[diabetes_overfit['diabetes'] == 0].sample(n=8500, random_state=42)\n",
    "diabetes = pd.concat([class_0, class_1])\n",
    "diabetes.groupby('diabetes').size()\n"
   ]
  },
  {
   "cell_type": "code",
   "execution_count": 387,
   "metadata": {
    "colab": {
     "base_uri": "https://localhost:8080/",
     "height": 206
    },
    "id": "Qc_aQTmUpjZa",
    "outputId": "8ec03c5d-8ddb-435d-aa80-d02174b337b8"
   },
   "outputs": [],
   "source": [
    "# diabetes=diabetes_overfit"
   ]
  },
  {
   "cell_type": "code",
   "execution_count": 388,
   "metadata": {
    "id": "czCObYv6pjZa"
   },
   "outputs": [],
   "source": [
    "# diabetes['gender'].replace(['Female','Male'],[0,1],inplace = True)"
   ]
  },
  {
   "cell_type": "code",
   "execution_count": 389,
   "metadata": {
    "colab": {
     "base_uri": "https://localhost:8080/"
    },
    "id": "WMZOHIMIpjZa",
    "outputId": "b512b721-899b-4bea-b041-0bceb8a1a972"
   },
   "outputs": [
    {
     "data": {
      "text/plain": [
       "array([0, 1])"
      ]
     },
     "execution_count": 389,
     "metadata": {},
     "output_type": "execute_result"
    }
   ],
   "source": [
    "from sklearn.preprocessing import LabelEncoder\n",
    "lable_encoder = LabelEncoder()\n",
    "diabetes['gender'] = lable_encoder.fit_transform(diabetes['gender'])\n",
    "diabetes['gender'].unique()"
   ]
  },
  {
   "cell_type": "code",
   "execution_count": 390,
   "metadata": {
    "colab": {
     "base_uri": "https://localhost:8080/",
     "height": 206
    },
    "id": "ZMcTfrnkpjZb",
    "outputId": "6eb6f242-136b-4bc2-f164-55de1280645d"
   },
   "outputs": [
    {
     "data": {
      "text/html": [
       "<div>\n",
       "<style scoped>\n",
       "    .dataframe tbody tr th:only-of-type {\n",
       "        vertical-align: middle;\n",
       "    }\n",
       "\n",
       "    .dataframe tbody tr th {\n",
       "        vertical-align: top;\n",
       "    }\n",
       "\n",
       "    .dataframe thead th {\n",
       "        text-align: right;\n",
       "    }\n",
       "</style>\n",
       "<table border=\"1\" class=\"dataframe\">\n",
       "  <thead>\n",
       "    <tr style=\"text-align: right;\">\n",
       "      <th></th>\n",
       "      <th>gender</th>\n",
       "      <th>age</th>\n",
       "      <th>hypertension</th>\n",
       "      <th>heart_disease</th>\n",
       "      <th>bmi</th>\n",
       "      <th>HbA1c_level</th>\n",
       "      <th>blood_glucose_level</th>\n",
       "      <th>diabetes</th>\n",
       "    </tr>\n",
       "  </thead>\n",
       "  <tbody>\n",
       "    <tr>\n",
       "      <th>50974</th>\n",
       "      <td>0</td>\n",
       "      <td>80.0</td>\n",
       "      <td>0</td>\n",
       "      <td>0</td>\n",
       "      <td>27.32</td>\n",
       "      <td>6.1</td>\n",
       "      <td>159</td>\n",
       "      <td>0</td>\n",
       "    </tr>\n",
       "    <tr>\n",
       "      <th>62503</th>\n",
       "      <td>1</td>\n",
       "      <td>15.0</td>\n",
       "      <td>0</td>\n",
       "      <td>0</td>\n",
       "      <td>19.89</td>\n",
       "      <td>6.6</td>\n",
       "      <td>159</td>\n",
       "      <td>0</td>\n",
       "    </tr>\n",
       "    <tr>\n",
       "      <th>306</th>\n",
       "      <td>0</td>\n",
       "      <td>80.0</td>\n",
       "      <td>0</td>\n",
       "      <td>1</td>\n",
       "      <td>21.30</td>\n",
       "      <td>5.0</td>\n",
       "      <td>159</td>\n",
       "      <td>0</td>\n",
       "    </tr>\n",
       "    <tr>\n",
       "      <th>86797</th>\n",
       "      <td>0</td>\n",
       "      <td>25.0</td>\n",
       "      <td>0</td>\n",
       "      <td>0</td>\n",
       "      <td>27.32</td>\n",
       "      <td>4.0</td>\n",
       "      <td>130</td>\n",
       "      <td>0</td>\n",
       "    </tr>\n",
       "    <tr>\n",
       "      <th>3762</th>\n",
       "      <td>1</td>\n",
       "      <td>17.0</td>\n",
       "      <td>0</td>\n",
       "      <td>0</td>\n",
       "      <td>27.24</td>\n",
       "      <td>6.2</td>\n",
       "      <td>160</td>\n",
       "      <td>0</td>\n",
       "    </tr>\n",
       "  </tbody>\n",
       "</table>\n",
       "</div>"
      ],
      "text/plain": [
       "       gender   age  hypertension  heart_disease    bmi  HbA1c_level  \\\n",
       "50974       0  80.0             0              0  27.32          6.1   \n",
       "62503       1  15.0             0              0  19.89          6.6   \n",
       "306         0  80.0             0              1  21.30          5.0   \n",
       "86797       0  25.0             0              0  27.32          4.0   \n",
       "3762        1  17.0             0              0  27.24          6.2   \n",
       "\n",
       "       blood_glucose_level  diabetes  \n",
       "50974                  159         0  \n",
       "62503                  159         0  \n",
       "306                    159         0  \n",
       "86797                  130         0  \n",
       "3762                   160         0  "
      ]
     },
     "execution_count": 390,
     "metadata": {},
     "output_type": "execute_result"
    }
   ],
   "source": [
    "diabetes.head()"
   ]
  },
  {
   "cell_type": "code",
   "execution_count": 391,
   "metadata": {
    "colab": {
     "base_uri": "https://localhost:8080/",
     "height": 577
    },
    "id": "ERvMHgKLpjZb",
    "outputId": "49843d1b-2c6d-4b9d-e5bc-5424df6e0f92"
   },
   "outputs": [
    {
     "data": {
      "text/plain": [
       "<Axes: >"
      ]
     },
     "execution_count": 391,
     "metadata": {},
     "output_type": "execute_result"
    },
    {
     "data": {
      "image/png": "[encoded data removed]",
      "text/plain": [
       "<Figure size 640x480 with 2 Axes>"
      ]
     },
     "metadata": {},
     "output_type": "display_data"
    }
   ],
   "source": [
    "import seaborn as sns\n",
    "\n",
    "sns.heatmap(diabetes[['diabetes','age','bmi','HbA1c_level','blood_glucose_level','gender','heart_disease']].corr(),annot = True)"
   ]
  },
  {
   "cell_type": "code",
   "execution_count": 392,
   "metadata": {
    "colab": {
     "base_uri": "https://localhost:8080/",
     "height": 447
    },
    "id": "1XO99kJbpjZb",
    "outputId": "3f352e6f-3e6e-4fec-e119-03e0e1bbea77"
   },
   "outputs": [],
   "source": [
    "# sns.boxplot(diabetes)"
   ]
  },
  {
   "cell_type": "code",
   "execution_count": null,
   "metadata": {
    "colab": {
     "base_uri": "https://localhost:8080/"
    },
    "id": "-n3dDg3FpjZc",
    "outputId": "00ec0dce-2b24-4114-f358-42edfd60d85a"
   },
   "outputs": [
    {
     "name": "stdout",
     "output_type": "stream",
     "text": [
      "Number of outliers in BMI feature: 1041\n"
     ]
    }
   ],
   "source": [
    "import numpy as np\n",
    "\n",
    "\n",
    "bmi_values = diabetes['bmi']\n",
    "\n",
    "\n",
    "Q1 = np.percentile(bmi_values, 25)\n",
    "Q3 = np.percentile(bmi_values, 75)\n",
    "\n",
    "\n",
    "IQR = Q3 - Q1\n",
    "\n",
    "\n",
    "lower_bound = Q1 - 1.5 * IQR\n",
    "upper_bound = Q3 + 1.5 * IQR\n",
    "\n",
    "\n",
    "outliers_count = sum((bmi_values < lower_bound) | (bmi_values > upper_bound))\n",
    "\n",
    "print(\"Number of outliers in BMI feature:\", outliers_count)\n"
   ]
  },
  {
   "cell_type": "code",
   "execution_count": 394,
   "metadata": {
    "colab": {
     "base_uri": "https://localhost:8080/"
    },
    "id": "5cMSonS_pjZc",
    "outputId": "7379a2c7-4687-41bb-9417-8434c674599b"
   },
   "outputs": [
    {
     "name": "stdout",
     "output_type": "stream",
     "text": [
      "<class 'pandas.core.frame.DataFrame'>\n",
      "Index: 17000 entries, 50974 to 99979\n",
      "Data columns (total 8 columns):\n",
      " #   Column               Non-Null Count  Dtype  \n",
      "---  ------               --------------  -----  \n",
      " 0   gender               17000 non-null  int32  \n",
      " 1   age                  17000 non-null  float64\n",
      " 2   hypertension         17000 non-null  int64  \n",
      " 3   heart_disease        17000 non-null  int64  \n",
      " 4   bmi                  17000 non-null  float64\n",
      " 5   HbA1c_level          17000 non-null  float64\n",
      " 6   blood_glucose_level  17000 non-null  int64  \n",
      " 7   diabetes             17000 non-null  int64  \n",
      "dtypes: float64(3), int32(1), int64(4)\n",
      "memory usage: 1.1 MB\n"
     ]
    }
   ],
   "source": [
    "diabetes.info()"
   ]
  },
  {
   "cell_type": "markdown",
   "metadata": {
    "id": "AQtucozQpjZd"
   },
   "source": [
    "Imputing Outliers"
   ]
  },
  {
   "cell_type": "code",
   "execution_count": null,
   "metadata": {
    "colab": {
     "base_uri": "https://localhost:8080/"
    },
    "id": "-5LffaWcpjZd",
    "outputId": "4f3bc883-d96d-4b51-fb49-682b47418580"
   },
   "outputs": [
    {
     "name": "stdout",
     "output_type": "stream",
     "text": [
      "Shape of original DataFrame: (17000, 8)\n",
      "Shape of cleaned DataFrame: (15959, 8)\n"
     ]
    }
   ],
   "source": [
    "import numpy as np\n",
    "\n",
    "\n",
    "Q1 = np.percentile(diabetes['bmi'], 25)\n",
    "Q3 = np.percentile(diabetes['bmi'], 75)\n",
    "\n",
    "\n",
    "IQR = Q3 - Q1\n",
    "\n",
    "\n",
    "lower_bound = Q1 - 1.5 * IQR\n",
    "upper_bound = Q3 + 1.5 * IQR\n",
    "\n",
    "\n",
    "diabetes_cleaned = diabetes[(diabetes['bmi'] >= lower_bound) & (diabetes['bmi'] <= upper_bound)]\n",
    "load_diabetes=diabetes_cleaned.copy()\n",
    "\n",
    "print(\"Shape of original DataFrame:\", diabetes.shape)\n",
    "print(\"Shape of cleaned DataFrame:\", diabetes_cleaned.shape)\n"
   ]
  },
  {
   "cell_type": "code",
   "execution_count": 396,
   "metadata": {
    "colab": {
     "base_uri": "https://localhost:8080/",
     "height": 447
    },
    "id": "mP0ToklgpjZe",
    "outputId": "a625da65-df3b-4c9d-83d5-77c9bbc95ab9"
   },
   "outputs": [
    {
     "data": {
      "text/plain": [
       "<Axes: >"
      ]
     },
     "execution_count": 396,
     "metadata": {},
     "output_type": "execute_result"
    },
    {
     "data": {
      "image/png": "[encoded data removed]",
      "text/plain": [
       "<Figure size 640x480 with 1 Axes>"
      ]
     },
     "metadata": {},
     "output_type": "display_data"
    }
   ],
   "source": [
    "sns.boxplot(diabetes_cleaned)"
   ]
  },
  {
   "cell_type": "code",
   "execution_count": 397,
   "metadata": {
    "id": "t_PST5CWpjZe"
   },
   "outputs": [],
   "source": [
    "X = diabetes_cleaned.drop(['diabetes'], axis = 1)\n",
    "y = diabetes_cleaned['diabetes']"
   ]
  },
  {
   "cell_type": "code",
   "execution_count": 398,
   "metadata": {
    "colab": {
     "base_uri": "https://localhost:8080/",
     "height": 206
    },
    "id": "30qcmpwFpjZe",
    "outputId": "c8329c55-dd0a-4b8c-b25b-0f7194b6b3b2"
   },
   "outputs": [
    {
     "data": {
      "text/html": [
       "<div>\n",
       "<style scoped>\n",
       "    .dataframe tbody tr th:only-of-type {\n",
       "        vertical-align: middle;\n",
       "    }\n",
       "\n",
       "    .dataframe tbody tr th {\n",
       "        vertical-align: top;\n",
       "    }\n",
       "\n",
       "    .dataframe thead th {\n",
       "        text-align: right;\n",
       "    }\n",
       "</style>\n",
       "<table border=\"1\" class=\"dataframe\">\n",
       "  <thead>\n",
       "    <tr style=\"text-align: right;\">\n",
       "      <th></th>\n",
       "      <th>gender</th>\n",
       "      <th>age</th>\n",
       "      <th>hypertension</th>\n",
       "      <th>heart_disease</th>\n",
       "      <th>bmi</th>\n",
       "      <th>HbA1c_level</th>\n",
       "      <th>blood_glucose_level</th>\n",
       "    </tr>\n",
       "  </thead>\n",
       "  <tbody>\n",
       "    <tr>\n",
       "      <th>50974</th>\n",
       "      <td>0</td>\n",
       "      <td>80.0</td>\n",
       "      <td>0</td>\n",
       "      <td>0</td>\n",
       "      <td>27.32</td>\n",
       "      <td>6.1</td>\n",
       "      <td>159</td>\n",
       "    </tr>\n",
       "    <tr>\n",
       "      <th>62503</th>\n",
       "      <td>1</td>\n",
       "      <td>15.0</td>\n",
       "      <td>0</td>\n",
       "      <td>0</td>\n",
       "      <td>19.89</td>\n",
       "      <td>6.6</td>\n",
       "      <td>159</td>\n",
       "    </tr>\n",
       "    <tr>\n",
       "      <th>306</th>\n",
       "      <td>0</td>\n",
       "      <td>80.0</td>\n",
       "      <td>0</td>\n",
       "      <td>1</td>\n",
       "      <td>21.30</td>\n",
       "      <td>5.0</td>\n",
       "      <td>159</td>\n",
       "    </tr>\n",
       "    <tr>\n",
       "      <th>86797</th>\n",
       "      <td>0</td>\n",
       "      <td>25.0</td>\n",
       "      <td>0</td>\n",
       "      <td>0</td>\n",
       "      <td>27.32</td>\n",
       "      <td>4.0</td>\n",
       "      <td>130</td>\n",
       "    </tr>\n",
       "    <tr>\n",
       "      <th>3762</th>\n",
       "      <td>1</td>\n",
       "      <td>17.0</td>\n",
       "      <td>0</td>\n",
       "      <td>0</td>\n",
       "      <td>27.24</td>\n",
       "      <td>6.2</td>\n",
       "      <td>160</td>\n",
       "    </tr>\n",
       "  </tbody>\n",
       "</table>\n",
       "</div>"
      ],
      "text/plain": [
       "       gender   age  hypertension  heart_disease    bmi  HbA1c_level  \\\n",
       "50974       0  80.0             0              0  27.32          6.1   \n",
       "62503       1  15.0             0              0  19.89          6.6   \n",
       "306         0  80.0             0              1  21.30          5.0   \n",
       "86797       0  25.0             0              0  27.32          4.0   \n",
       "3762        1  17.0             0              0  27.24          6.2   \n",
       "\n",
       "       blood_glucose_level  \n",
       "50974                  159  \n",
       "62503                  159  \n",
       "306                    159  \n",
       "86797                  130  \n",
       "3762                   160  "
      ]
     },
     "execution_count": 398,
     "metadata": {},
     "output_type": "execute_result"
    }
   ],
   "source": [
    "X.head()"
   ]
  },
  {
   "cell_type": "code",
   "execution_count": 399,
   "metadata": {
    "colab": {
     "base_uri": "https://localhost:8080/",
     "height": 241
    },
    "id": "2oBRCFwGpjZf",
    "outputId": "5be0bafd-7e66-4ef5-df79-4dc870025841"
   },
   "outputs": [
    {
     "data": {
      "text/plain": [
       "50974    0\n",
       "62503    0\n",
       "306      0\n",
       "86797    0\n",
       "3762     0\n",
       "Name: diabetes, dtype: int64"
      ]
     },
     "execution_count": 399,
     "metadata": {},
     "output_type": "execute_result"
    }
   ],
   "source": [
    "y.head()"
   ]
  },
  {
   "cell_type": "code",
   "execution_count": 400,
   "metadata": {
    "id": "V7bpzfy0pjZf"
   },
   "outputs": [],
   "source": [
    "from sklearn.model_selection import train_test_split\n",
    "\n",
    "X_train,X_test,y_train,y_test = train_test_split(X,y,train_size = 0.8,random_state=42)"
   ]
  },
  {
   "cell_type": "code",
   "execution_count": 401,
   "metadata": {
    "id": "9InQA76spjZf"
   },
   "outputs": [],
   "source": [
    "from sklearn import preprocessing\n",
    "stand = preprocessing.StandardScaler()\n",
    "X_train = stand.fit_transform(X_train)\n",
    "X_test = stand.transform(X_test)"
   ]
  },
  {
   "cell_type": "code",
   "execution_count": 402,
   "metadata": {
    "colab": {
     "base_uri": "https://localhost:8080/"
    },
    "id": "CHyMsaITpjZf",
    "outputId": "b02709a7-b0af-4ee3-ba7c-4a85d5c71fec"
   },
   "outputs": [
    {
     "name": "stdout",
     "output_type": "stream",
     "text": [
      "Epoch 1/100\n",
      "399/399 [==============================] - 2s 2ms/step - loss: 0.5146 - accuracy: 0.7768 - val_loss: 0.3558 - val_accuracy: 0.8672\n",
      "Epoch 2/100\n",
      "399/399 [==============================] - 1s 2ms/step - loss: 0.2925 - accuracy: 0.8768 - val_loss: 0.2770 - val_accuracy: 0.8775\n",
      "Epoch 3/100\n",
      "399/399 [==============================] - 1s 2ms/step - loss: 0.2626 - accuracy: 0.8804 - val_loss: 0.2621 - val_accuracy: 0.8778\n",
      "Epoch 4/100\n",
      "399/399 [==============================] - 1s 2ms/step - loss: 0.2534 - accuracy: 0.8791 - val_loss: 0.2580 - val_accuracy: 0.8772\n",
      "Epoch 5/100\n",
      "399/399 [==============================] - 1s 2ms/step - loss: 0.2481 - accuracy: 0.8820 - val_loss: 0.2508 - val_accuracy: 0.8810\n",
      "Epoch 6/100\n",
      "399/399 [==============================] - 1s 2ms/step - loss: 0.2436 - accuracy: 0.8839 - val_loss: 0.2462 - val_accuracy: 0.8813\n",
      "Epoch 7/100\n",
      "399/399 [==============================] - 1s 2ms/step - loss: 0.2391 - accuracy: 0.8863 - val_loss: 0.2440 - val_accuracy: 0.8813\n",
      "Epoch 8/100\n",
      "399/399 [==============================] - 1s 2ms/step - loss: 0.2363 - accuracy: 0.8872 - val_loss: 0.2389 - val_accuracy: 0.8828\n",
      "Epoch 9/100\n",
      "399/399 [==============================] - 1s 2ms/step - loss: 0.2339 - accuracy: 0.8874 - val_loss: 0.2365 - val_accuracy: 0.8835\n",
      "Epoch 10/100\n",
      "399/399 [==============================] - 1s 2ms/step - loss: 0.2310 - accuracy: 0.8896 - val_loss: 0.2346 - val_accuracy: 0.8825\n",
      "Epoch 11/100\n",
      "399/399 [==============================] - 1s 2ms/step - loss: 0.2289 - accuracy: 0.8909 - val_loss: 0.2308 - val_accuracy: 0.8882\n",
      "Epoch 12/100\n",
      "399/399 [==============================] - 1s 2ms/step - loss: 0.2264 - accuracy: 0.8896 - val_loss: 0.2297 - val_accuracy: 0.8863\n",
      "Epoch 13/100\n",
      "399/399 [==============================] - 1s 2ms/step - loss: 0.2240 - accuracy: 0.8914 - val_loss: 0.2264 - val_accuracy: 0.8866\n",
      "Epoch 14/100\n",
      "399/399 [==============================] - 1s 2ms/step - loss: 0.2208 - accuracy: 0.8923 - val_loss: 0.2256 - val_accuracy: 0.8882\n",
      "Epoch 15/100\n",
      "399/399 [==============================] - 1s 2ms/step - loss: 0.2182 - accuracy: 0.8939 - val_loss: 0.2224 - val_accuracy: 0.8897\n",
      "Epoch 16/100\n",
      "399/399 [==============================] - 1s 2ms/step - loss: 0.2151 - accuracy: 0.8954 - val_loss: 0.2212 - val_accuracy: 0.8904\n",
      "Epoch 17/100\n",
      "399/399 [==============================] - 1s 2ms/step - loss: 0.2129 - accuracy: 0.8959 - val_loss: 0.2171 - val_accuracy: 0.8932\n",
      "Epoch 18/100\n",
      "399/399 [==============================] - 1s 2ms/step - loss: 0.2102 - accuracy: 0.8972 - val_loss: 0.2171 - val_accuracy: 0.8922\n",
      "Epoch 19/100\n",
      "399/399 [==============================] - 1s 2ms/step - loss: 0.2086 - accuracy: 0.8981 - val_loss: 0.2151 - val_accuracy: 0.8938\n",
      "Epoch 20/100\n",
      "399/399 [==============================] - 1s 2ms/step - loss: 0.2067 - accuracy: 0.9001 - val_loss: 0.2148 - val_accuracy: 0.8941\n",
      "Epoch 21/100\n",
      "399/399 [==============================] - 1s 2ms/step - loss: 0.2054 - accuracy: 0.8997 - val_loss: 0.2126 - val_accuracy: 0.8947\n",
      "Epoch 22/100\n",
      "399/399 [==============================] - 1s 2ms/step - loss: 0.2043 - accuracy: 0.8984 - val_loss: 0.2118 - val_accuracy: 0.8944\n",
      "Epoch 23/100\n",
      "399/399 [==============================] - 1s 2ms/step - loss: 0.2034 - accuracy: 0.8996 - val_loss: 0.2103 - val_accuracy: 0.8938\n",
      "Epoch 24/100\n",
      "399/399 [==============================] - 1s 2ms/step - loss: 0.2023 - accuracy: 0.9014 - val_loss: 0.2099 - val_accuracy: 0.8960\n",
      "Epoch 25/100\n",
      "399/399 [==============================] - 1s 2ms/step - loss: 0.2018 - accuracy: 0.9005 - val_loss: 0.2086 - val_accuracy: 0.8960\n",
      "Epoch 26/100\n",
      "399/399 [==============================] - 1s 2ms/step - loss: 0.2007 - accuracy: 0.9009 - val_loss: 0.2073 - val_accuracy: 0.8963\n",
      "Epoch 27/100\n",
      "399/399 [==============================] - 1s 2ms/step - loss: 0.1998 - accuracy: 0.9008 - val_loss: 0.2103 - val_accuracy: 0.8957\n",
      "Epoch 28/100\n",
      "399/399 [==============================] - 1s 2ms/step - loss: 0.1994 - accuracy: 0.9007 - val_loss: 0.2072 - val_accuracy: 0.8976\n",
      "Epoch 29/100\n",
      "399/399 [==============================] - 1s 2ms/step - loss: 0.1986 - accuracy: 0.9030 - val_loss: 0.2070 - val_accuracy: 0.8994\n",
      "Epoch 30/100\n",
      "399/399 [==============================] - 1s 2ms/step - loss: 0.1974 - accuracy: 0.9028 - val_loss: 0.2056 - val_accuracy: 0.9013\n",
      "Epoch 31/100\n",
      "399/399 [==============================] - 1s 2ms/step - loss: 0.1967 - accuracy: 0.9034 - val_loss: 0.2059 - val_accuracy: 0.8969\n",
      "Epoch 32/100\n",
      "399/399 [==============================] - 1s 2ms/step - loss: 0.1966 - accuracy: 0.9032 - val_loss: 0.2061 - val_accuracy: 0.8985\n",
      "Epoch 33/100\n",
      "399/399 [==============================] - 1s 2ms/step - loss: 0.1959 - accuracy: 0.9035 - val_loss: 0.2055 - val_accuracy: 0.8951\n",
      "Epoch 34/100\n",
      "399/399 [==============================] - 1s 2ms/step - loss: 0.1950 - accuracy: 0.9038 - val_loss: 0.2047 - val_accuracy: 0.8991\n",
      "Epoch 35/100\n",
      "399/399 [==============================] - 1s 2ms/step - loss: 0.1950 - accuracy: 0.9047 - val_loss: 0.2043 - val_accuracy: 0.8960\n",
      "Epoch 36/100\n",
      "399/399 [==============================] - 1s 2ms/step - loss: 0.1947 - accuracy: 0.9041 - val_loss: 0.2039 - val_accuracy: 0.8994\n",
      "Epoch 37/100\n",
      "399/399 [==============================] - 1s 2ms/step - loss: 0.1951 - accuracy: 0.9036 - val_loss: 0.2048 - val_accuracy: 0.8966\n",
      "Epoch 38/100\n",
      "399/399 [==============================] - 1s 2ms/step - loss: 0.1944 - accuracy: 0.9043 - val_loss: 0.2046 - val_accuracy: 0.8979\n",
      "Epoch 39/100\n",
      "399/399 [==============================] - 1s 2ms/step - loss: 0.1938 - accuracy: 0.9051 - val_loss: 0.2063 - val_accuracy: 0.8941\n",
      "Epoch 39: early stopping\n"
     ]
    }
   ],
   "source": [
    "\n",
    "import tensorflow as tf\n",
    "from tensorflow import keras\n",
    "from tensorflow.keras.callbacks import EarlyStopping\n",
    "deepneuralnetworks_model = tf.keras.models.Sequential()\n",
    "deepneuralnetworks_model.add(tf.keras.layers.Dense(units = 7, activation = 'relu')) \n",
    "deepneuralnetworks_model.add(tf.keras.layers.Dense(units = 7, activation = 'relu'))\n",
    "deepneuralnetworks_model.add(tf.keras.layers.Dense(units = 7, activation = 'relu'))\n",
    "deepneuralnetworks_model.add(tf.keras.layers.Dense(units = 7, activation = 'relu'))\n",
    "deepneuralnetworks_model.add(tf.keras.layers.Dense(units = 1, activation = 'sigmoid'))\n",
    "deepneuralnetworks_model.compile(optimizer = 'adam', loss = 'binary_crossentropy', metrics = ['accuracy'])\n",
    "early_stop = EarlyStopping(monitor='val_loss', patience=3, verbose=1)\n",
    "deep_history = deepneuralnetworks_model.fit(X_train, y_train, epochs=100, \n",
    "                              validation_data = (X_test, y_test),\n",
    "                              callbacks=[early_stop])"
   ]
  },
  {
   "cell_type": "code",
   "execution_count": 403,
   "metadata": {
    "colab": {
     "base_uri": "https://localhost:8080/"
    },
    "id": "EJQTIbvLpjZg",
    "outputId": "6c22fc1b-5126-4322-a35a-d922575dea05"
   },
   "outputs": [
    {
     "name": "stdout",
     "output_type": "stream",
     "text": [
      "100/100 [==============================] - 0s 801us/step\n"
     ]
    }
   ],
   "source": [
    "predict = deepneuralnetworks_model.predict(X_test)"
   ]
  },
  {
   "cell_type": "code",
   "execution_count": null,
   "metadata": {
    "id": "V4KnCxfey6IT"
   },
   "outputs": [
    {
     "name": "stdout",
     "output_type": "stream",
     "text": [
      "1/1 [==============================] - 0s 86ms/step\n",
      "Risk Level: High Risk\n",
      "The probability of having diabetes is: 99.77 Percent\n",
      "The probability of not having diabetes is: 0.23 Percent\n"
     ]
    }
   ],
   "source": [
    "\n",
    "\n",
    "import pandas as pd\n",
    "\n",
    "\n",
    "gender_convert = 0 \n",
    "age = 20.0\n",
    "hypertension_convert = 0 \n",
    "heart_disease_convert = 0 \n",
    "bmi = 35.0\n",
    "HbA1c_level = 7.5\n",
    "blood_glucose_level = 160.0\n",
    "\n",
    "\n",
    "input_data = pd.DataFrame([[gender_convert, age, hypertension_convert, heart_disease_convert, bmi, HbA1c_level, blood_glucose_level]],\n",
    "                          columns=['gender', 'age', 'hypertension', 'heart_disease', 'bmi', 'HbA1c_level', 'blood_glucose_level'])\n",
    "\n",
    "\n",
    "standardized_input = stand.transform(input_data)\n",
    "\n",
    "\n",
    "prediction = deepneuralnetworks_model.predict(standardized_input)\n",
    "\n",
    "\n",
    "probability = prediction[0].item()\n",
    "if probability > 0.5:\n",
    "    risk_level = \"High Risk\"\n",
    "else:\n",
    "    risk_level = \"Low Risk\"\n",
    "\n",
    "\n",
    "print(f\"Risk Level: {risk_level}\")\n",
    "print(f\"The probability of having diabetes is: {probability * 100:.2f} Percent\")\n",
    "print(f\"The probability of not having diabetes is: {(1 - probability) * 100:.2f} Percent\")"
   ]
  },
  {
   "cell_type": "code",
   "execution_count": 405,
   "metadata": {
    "colab": {
     "base_uri": "https://localhost:8080/"
    },
    "id": "ifMFaff1pjZh",
    "outputId": "c820b9a2-b6b4-449c-90af-960b80f07794"
   },
   "outputs": [
    {
     "name": "stdout",
     "output_type": "stream",
     "text": [
      "[[9.9996495e-01]\n",
      " [4.1101154e-07]\n",
      " [8.0394790e-07]\n",
      " ...\n",
      " [5.1714224e-01]\n",
      " [8.1194878e-01]\n",
      " [1.9781127e-07]]\n"
     ]
    }
   ],
   "source": [
    "print(predict)"
   ]
  },
  {
   "cell_type": "code",
   "execution_count": null,
   "metadata": {
    "id": "PfrcpW5hpjZi"
   },
   "outputs": [
    {
     "name": "stdout",
     "output_type": "stream",
     "text": [
      "INFO:tensorflow:Assets written to: ram://22f67846-a2ba-461c-b622-32fe07e310b2/assets\n"
     ]
    }
   ],
   "source": [
    "import pickle\n",
    "\n",
    "\n",
    "\n",
    "data = {\"deepneuralnetworks_model\": deepneuralnetworks_model,\"lable_encoder\": lable_encoder }\n",
    "with open('linear_regression_model3.pkl','wb') as file:\n",
    "    pickle.dump(data,file)"
   ]
  },
  {
   "cell_type": "code",
   "execution_count": 407,
   "metadata": {
    "colab": {
     "base_uri": "https://localhost:8080/"
    },
    "id": "ZoEieiELpjZi",
    "outputId": "c54e65bd-0576-4ea9-a642-4877a51c7b42"
   },
   "outputs": [
    {
     "name": "stdout",
     "output_type": "stream",
     "text": [
      "INFO:tensorflow:Assets written to: ram://483ee94a-98ba-457b-aa96-aca8152d70a0/assets\n"
     ]
    },
    {
     "data": {
      "text/plain": [
       "['load_diabetes.pkl']"
      ]
     },
     "execution_count": 407,
     "metadata": {},
     "output_type": "execute_result"
    }
   ],
   "source": [
    "import joblib\n",
    "joblib.dump(deepneuralnetworks_model,'deepneuralnetworks_model.pkl')\n",
    "joblib.dump(stand,'standard_scaler.pkl')\n",
    "joblib.dump(load_diabetes,'load_diabetes.pkl')"
   ]
  },
  {
   "cell_type": "code",
   "execution_count": 408,
   "metadata": {
    "colab": {
     "base_uri": "https://localhost:8080/"
    },
    "id": "9DkqMLX_pjZq",
    "outputId": "8adfa940-7c41-45b9-b675-fb110bb08bde"
   },
   "outputs": [],
   "source": [
    "import tensorflow as tf\n",
    "path = './model.h5'\n",
    "deepneuralnetworks_model.save(path )\n",
    "loaded_model= tf.keras.models.load_model(path )\n"
   ]
  }
 ],
 "metadata": {
  "colab": {
   "provenance": []
  },
  "kernelspec": {
   "display_name": "ai4",
   "language": "python",
   "name": "python3"
  },
  "language_info": {
   "codemirror_mode": {
    "name": "ipython",
    "version": 3
   },
   "file_extension": ".py",
   "mimetype": "text/x-python",
   "name": "python",
   "nbconvert_exporter": "python",
   "pygments_lexer": "ipython3",
   "version": "3.10.13"
  }
 },
 "nbformat": 4,
 "nbformat_minor": 0
}
