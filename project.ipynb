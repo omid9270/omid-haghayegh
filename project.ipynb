{
 "cells": [
  {
   "cell_type": "code",
   "execution_count": 22,
   "metadata": {
    "id": "WaulVvFZpjZQ"
   },
   "outputs": [],
   "source": [
    "import pandas as pd"
   ]
  },
  {
   "cell_type": "code",
   "execution_count": 23,
   "metadata": {
    "id": "46dQVshqpjZS"
   },
   "outputs": [],
   "source": [
    "diabetes_overfit = pd.read_csv(\"diabetes.csv\")"
   ]
  },
  {
   "cell_type": "code",
   "execution_count": 24,
   "metadata": {
    "colab": {
     "base_uri": "https://localhost:8080/",
     "height": 226
    },
    "id": "7o9ydv89pjZS",
    "outputId": "294f2ea8-94c8-4208-cbea-11f1fc20d2a6"
   },
   "outputs": [
    {
     "data": {
      "text/html": [
       "<div>\n",
       "<style scoped>\n",
       "    .dataframe tbody tr th:only-of-type {\n",
       "        vertical-align: middle;\n",
       "    }\n",
       "\n",
       "    .dataframe tbody tr th {\n",
       "        vertical-align: top;\n",
       "    }\n",
       "\n",
       "    .dataframe thead th {\n",
       "        text-align: right;\n",
       "    }\n",
       "</style>\n",
       "<table border=\"1\" class=\"dataframe\">\n",
       "  <thead>\n",
       "    <tr style=\"text-align: right;\">\n",
       "      <th></th>\n",
       "      <th>gender</th>\n",
       "      <th>age</th>\n",
       "      <th>hypertension</th>\n",
       "      <th>heart_disease</th>\n",
       "      <th>smoking_history</th>\n",
       "      <th>bmi</th>\n",
       "      <th>HbA1c_level</th>\n",
       "      <th>blood_glucose_level</th>\n",
       "      <th>diabetes</th>\n",
       "    </tr>\n",
       "  </thead>\n",
       "  <tbody>\n",
       "    <tr>\n",
       "      <th>0</th>\n",
       "      <td>Female</td>\n",
       "      <td>80.0</td>\n",
       "      <td>0</td>\n",
       "      <td>1</td>\n",
       "      <td>never</td>\n",
       "      <td>25.19</td>\n",
       "      <td>6.6</td>\n",
       "      <td>140</td>\n",
       "      <td>0</td>\n",
       "    </tr>\n",
       "    <tr>\n",
       "      <th>1</th>\n",
       "      <td>Female</td>\n",
       "      <td>54.0</td>\n",
       "      <td>0</td>\n",
       "      <td>0</td>\n",
       "      <td>No Info</td>\n",
       "      <td>27.32</td>\n",
       "      <td>6.6</td>\n",
       "      <td>80</td>\n",
       "      <td>0</td>\n",
       "    </tr>\n",
       "    <tr>\n",
       "      <th>2</th>\n",
       "      <td>Male</td>\n",
       "      <td>28.0</td>\n",
       "      <td>0</td>\n",
       "      <td>0</td>\n",
       "      <td>never</td>\n",
       "      <td>27.32</td>\n",
       "      <td>5.7</td>\n",
       "      <td>158</td>\n",
       "      <td>0</td>\n",
       "    </tr>\n",
       "    <tr>\n",
       "      <th>3</th>\n",
       "      <td>Female</td>\n",
       "      <td>36.0</td>\n",
       "      <td>0</td>\n",
       "      <td>0</td>\n",
       "      <td>current</td>\n",
       "      <td>23.45</td>\n",
       "      <td>5.0</td>\n",
       "      <td>155</td>\n",
       "      <td>0</td>\n",
       "    </tr>\n",
       "    <tr>\n",
       "      <th>4</th>\n",
       "      <td>Male</td>\n",
       "      <td>76.0</td>\n",
       "      <td>1</td>\n",
       "      <td>1</td>\n",
       "      <td>current</td>\n",
       "      <td>20.14</td>\n",
       "      <td>4.8</td>\n",
       "      <td>155</td>\n",
       "      <td>0</td>\n",
       "    </tr>\n",
       "  </tbody>\n",
       "</table>\n",
       "</div>"
      ],
      "text/plain": [
       "   gender   age  hypertension  heart_disease smoking_history    bmi  \\\n",
       "0  Female  80.0             0              1           never  25.19   \n",
       "1  Female  54.0             0              0         No Info  27.32   \n",
       "2    Male  28.0             0              0           never  27.32   \n",
       "3  Female  36.0             0              0         current  23.45   \n",
       "4    Male  76.0             1              1         current  20.14   \n",
       "\n",
       "   HbA1c_level  blood_glucose_level  diabetes  \n",
       "0          6.6                  140         0  \n",
       "1          6.6                   80         0  \n",
       "2          5.7                  158         0  \n",
       "3          5.0                  155         0  \n",
       "4          4.8                  155         0  "
      ]
     },
     "execution_count": 24,
     "metadata": {},
     "output_type": "execute_result"
    }
   ],
   "source": [
    "diabetes_overfit.head()"
   ]
  },
  {
   "cell_type": "code",
   "execution_count": 25,
   "metadata": {
    "colab": {
     "base_uri": "https://localhost:8080/",
     "height": 366
    },
    "id": "0ZQ7yy_tpjZU",
    "outputId": "8ad6cab4-81ea-41bc-bf51-774fc9040b22"
   },
   "outputs": [
    {
     "data": {
      "text/plain": [
       "gender                 0\n",
       "age                    0\n",
       "hypertension           0\n",
       "heart_disease          0\n",
       "smoking_history        0\n",
       "bmi                    0\n",
       "HbA1c_level            0\n",
       "blood_glucose_level    0\n",
       "diabetes               0\n",
       "dtype: int64"
      ]
     },
     "execution_count": 25,
     "metadata": {},
     "output_type": "execute_result"
    }
   ],
   "source": [
    "diabetes_overfit.isnull().sum()"
   ]
  },
  {
   "cell_type": "code",
   "execution_count": 26,
   "metadata": {
    "colab": {
     "base_uri": "https://localhost:8080/"
    },
    "id": "YNRo05NSpjZU",
    "outputId": "90e7cbe9-e389-4c2f-f0d0-f245ed55b3ef"
   },
   "outputs": [
    {
     "data": {
      "text/plain": [
       "array(['never', 'No Info', 'current', 'former', 'ever', 'not current'],\n",
       "      dtype=object)"
      ]
     },
     "execution_count": 26,
     "metadata": {},
     "output_type": "execute_result"
    }
   ],
   "source": [
    "diabetes_overfit['smoking_history'].unique()"
   ]
  },
  {
   "cell_type": "code",
   "execution_count": 27,
   "metadata": {
    "id": "A9le_VHlpjZV"
   },
   "outputs": [],
   "source": [
    "diabetes_overfit.drop('smoking_history', axis=1, inplace=True)\n"
   ]
  },
  {
   "cell_type": "code",
   "execution_count": 28,
   "metadata": {
    "colab": {
     "base_uri": "https://localhost:8080/",
     "height": 206
    },
    "id": "3OkMa-kSpjZV",
    "outputId": "9a54484e-92f4-4d08-ff22-ea17281ca6f1"
   },
   "outputs": [
    {
     "data": {
      "text/html": [
       "<div>\n",
       "<style scoped>\n",
       "    .dataframe tbody tr th:only-of-type {\n",
       "        vertical-align: middle;\n",
       "    }\n",
       "\n",
       "    .dataframe tbody tr th {\n",
       "        vertical-align: top;\n",
       "    }\n",
       "\n",
       "    .dataframe thead th {\n",
       "        text-align: right;\n",
       "    }\n",
       "</style>\n",
       "<table border=\"1\" class=\"dataframe\">\n",
       "  <thead>\n",
       "    <tr style=\"text-align: right;\">\n",
       "      <th></th>\n",
       "      <th>gender</th>\n",
       "      <th>age</th>\n",
       "      <th>hypertension</th>\n",
       "      <th>heart_disease</th>\n",
       "      <th>bmi</th>\n",
       "      <th>HbA1c_level</th>\n",
       "      <th>blood_glucose_level</th>\n",
       "      <th>diabetes</th>\n",
       "    </tr>\n",
       "  </thead>\n",
       "  <tbody>\n",
       "    <tr>\n",
       "      <th>0</th>\n",
       "      <td>Female</td>\n",
       "      <td>80.0</td>\n",
       "      <td>0</td>\n",
       "      <td>1</td>\n",
       "      <td>25.19</td>\n",
       "      <td>6.6</td>\n",
       "      <td>140</td>\n",
       "      <td>0</td>\n",
       "    </tr>\n",
       "    <tr>\n",
       "      <th>1</th>\n",
       "      <td>Female</td>\n",
       "      <td>54.0</td>\n",
       "      <td>0</td>\n",
       "      <td>0</td>\n",
       "      <td>27.32</td>\n",
       "      <td>6.6</td>\n",
       "      <td>80</td>\n",
       "      <td>0</td>\n",
       "    </tr>\n",
       "    <tr>\n",
       "      <th>2</th>\n",
       "      <td>Male</td>\n",
       "      <td>28.0</td>\n",
       "      <td>0</td>\n",
       "      <td>0</td>\n",
       "      <td>27.32</td>\n",
       "      <td>5.7</td>\n",
       "      <td>158</td>\n",
       "      <td>0</td>\n",
       "    </tr>\n",
       "    <tr>\n",
       "      <th>3</th>\n",
       "      <td>Female</td>\n",
       "      <td>36.0</td>\n",
       "      <td>0</td>\n",
       "      <td>0</td>\n",
       "      <td>23.45</td>\n",
       "      <td>5.0</td>\n",
       "      <td>155</td>\n",
       "      <td>0</td>\n",
       "    </tr>\n",
       "    <tr>\n",
       "      <th>4</th>\n",
       "      <td>Male</td>\n",
       "      <td>76.0</td>\n",
       "      <td>1</td>\n",
       "      <td>1</td>\n",
       "      <td>20.14</td>\n",
       "      <td>4.8</td>\n",
       "      <td>155</td>\n",
       "      <td>0</td>\n",
       "    </tr>\n",
       "  </tbody>\n",
       "</table>\n",
       "</div>"
      ],
      "text/plain": [
       "   gender   age  hypertension  heart_disease    bmi  HbA1c_level  \\\n",
       "0  Female  80.0             0              1  25.19          6.6   \n",
       "1  Female  54.0             0              0  27.32          6.6   \n",
       "2    Male  28.0             0              0  27.32          5.7   \n",
       "3  Female  36.0             0              0  23.45          5.0   \n",
       "4    Male  76.0             1              1  20.14          4.8   \n",
       "\n",
       "   blood_glucose_level  diabetes  \n",
       "0                  140         0  \n",
       "1                   80         0  \n",
       "2                  158         0  \n",
       "3                  155         0  \n",
       "4                  155         0  "
      ]
     },
     "execution_count": 28,
     "metadata": {},
     "output_type": "execute_result"
    }
   ],
   "source": [
    "diabetes_overfit.head()"
   ]
  },
  {
   "cell_type": "markdown",
   "metadata": {
    "id": "x3MyfFmOpjZW"
   },
   "source": [
    "Encode The Gender"
   ]
  },
  {
   "cell_type": "code",
   "execution_count": 29,
   "metadata": {
    "colab": {
     "base_uri": "https://localhost:8080/"
    },
    "id": "6Ssc9nonpjZX",
    "outputId": "2525f3ab-9f40-4688-bec4-0994b1c2f8b7"
   },
   "outputs": [
    {
     "data": {
      "text/plain": [
       "array(['Female', 'Male', 'Other'], dtype=object)"
      ]
     },
     "execution_count": 29,
     "metadata": {},
     "output_type": "execute_result"
    }
   ],
   "source": [
    "diabetes_overfit['gender'].unique()"
   ]
  },
  {
   "cell_type": "code",
   "execution_count": 30,
   "metadata": {
    "colab": {
     "base_uri": "https://localhost:8080/",
     "height": 209
    },
    "id": "3RTrDDIfpjZY",
    "outputId": "17ba8a7a-b14c-4400-f6e5-bd699b59073f"
   },
   "outputs": [
    {
     "data": {
      "text/plain": [
       "gender\n",
       "Female    58552\n",
       "Male      41430\n",
       "Other        18\n",
       "dtype: int64"
      ]
     },
     "execution_count": 30,
     "metadata": {},
     "output_type": "execute_result"
    }
   ],
   "source": [
    "diabetes_overfit.groupby('gender').size()"
   ]
  },
  {
   "cell_type": "code",
   "execution_count": 31,
   "metadata": {
    "id": "JSOGXIUepjZY"
   },
   "outputs": [],
   "source": [
    "diabetes_overfit = diabetes_overfit[diabetes_overfit['gender'] != 'Other']"
   ]
  },
  {
   "cell_type": "code",
   "execution_count": 32,
   "metadata": {
    "colab": {
     "base_uri": "https://localhost:8080/",
     "height": 178
    },
    "id": "bTig9myMpjZZ",
    "outputId": "8c63f777-0bd7-4bd5-a416-d404cc5c04e9"
   },
   "outputs": [
    {
     "data": {
      "text/plain": [
       "gender\n",
       "Female    58552\n",
       "Male      41430\n",
       "dtype: int64"
      ]
     },
     "execution_count": 32,
     "metadata": {},
     "output_type": "execute_result"
    }
   ],
   "source": [
    "diabetes_overfit.groupby('gender').size()"
   ]
  },
  {
   "cell_type": "code",
   "execution_count": 33,
   "metadata": {
    "colab": {
     "base_uri": "https://localhost:8080/",
     "height": 178
    },
    "id": "JBoUNudbpjZZ",
    "outputId": "c6e1e1d5-c8ec-4261-c72f-da893c0687d7"
   },
   "outputs": [
    {
     "data": {
      "text/plain": [
       "diabetes\n",
       "0    91482\n",
       "1     8500\n",
       "dtype: int64"
      ]
     },
     "execution_count": 33,
     "metadata": {},
     "output_type": "execute_result"
    }
   ],
   "source": [
    "diabetes_overfit.groupby('diabetes').size()"
   ]
  },
  {
   "cell_type": "code",
   "execution_count": 34,
   "metadata": {
    "colab": {
     "base_uri": "https://localhost:8080/",
     "height": 178
    },
    "id": "aSKjEUIjpjZZ",
    "outputId": "568e08d5-b283-453f-c99d-73620e7f5688"
   },
   "outputs": [
    {
     "data": {
      "text/plain": [
       "diabetes\n",
       "0    8500\n",
       "1    8500\n",
       "dtype: int64"
      ]
     },
     "execution_count": 34,
     "metadata": {},
     "output_type": "execute_result"
    }
   ],
   "source": [
    "class_1 = diabetes_overfit[diabetes_overfit['diabetes'] == 1]\n",
    "class_0 = diabetes_overfit[diabetes_overfit['diabetes'] == 0].sample(n=8500, random_state=42)\n",
    "diabetes = pd.concat([class_0, class_1])\n",
    "diabetes.groupby('diabetes').size()\n"
   ]
  },
  {
   "cell_type": "code",
   "execution_count": 35,
   "metadata": {
    "colab": {
     "base_uri": "https://localhost:8080/",
     "height": 206
    },
    "id": "Qc_aQTmUpjZa",
    "outputId": "8ec03c5d-8ddb-435d-aa80-d02174b337b8"
   },
   "outputs": [
    {
     "data": {
      "text/html": [
       "<div>\n",
       "<style scoped>\n",
       "    .dataframe tbody tr th:only-of-type {\n",
       "        vertical-align: middle;\n",
       "    }\n",
       "\n",
       "    .dataframe tbody tr th {\n",
       "        vertical-align: top;\n",
       "    }\n",
       "\n",
       "    .dataframe thead th {\n",
       "        text-align: right;\n",
       "    }\n",
       "</style>\n",
       "<table border=\"1\" class=\"dataframe\">\n",
       "  <thead>\n",
       "    <tr style=\"text-align: right;\">\n",
       "      <th></th>\n",
       "      <th>gender</th>\n",
       "      <th>age</th>\n",
       "      <th>hypertension</th>\n",
       "      <th>heart_disease</th>\n",
       "      <th>bmi</th>\n",
       "      <th>HbA1c_level</th>\n",
       "      <th>blood_glucose_level</th>\n",
       "      <th>diabetes</th>\n",
       "    </tr>\n",
       "  </thead>\n",
       "  <tbody>\n",
       "    <tr>\n",
       "      <th>50974</th>\n",
       "      <td>Female</td>\n",
       "      <td>80.0</td>\n",
       "      <td>0</td>\n",
       "      <td>0</td>\n",
       "      <td>27.32</td>\n",
       "      <td>6.1</td>\n",
       "      <td>159</td>\n",
       "      <td>0</td>\n",
       "    </tr>\n",
       "    <tr>\n",
       "      <th>62503</th>\n",
       "      <td>Male</td>\n",
       "      <td>15.0</td>\n",
       "      <td>0</td>\n",
       "      <td>0</td>\n",
       "      <td>19.89</td>\n",
       "      <td>6.6</td>\n",
       "      <td>159</td>\n",
       "      <td>0</td>\n",
       "    </tr>\n",
       "    <tr>\n",
       "      <th>306</th>\n",
       "      <td>Female</td>\n",
       "      <td>80.0</td>\n",
       "      <td>0</td>\n",
       "      <td>1</td>\n",
       "      <td>21.30</td>\n",
       "      <td>5.0</td>\n",
       "      <td>159</td>\n",
       "      <td>0</td>\n",
       "    </tr>\n",
       "    <tr>\n",
       "      <th>86797</th>\n",
       "      <td>Female</td>\n",
       "      <td>25.0</td>\n",
       "      <td>0</td>\n",
       "      <td>0</td>\n",
       "      <td>27.32</td>\n",
       "      <td>4.0</td>\n",
       "      <td>130</td>\n",
       "      <td>0</td>\n",
       "    </tr>\n",
       "    <tr>\n",
       "      <th>3762</th>\n",
       "      <td>Male</td>\n",
       "      <td>17.0</td>\n",
       "      <td>0</td>\n",
       "      <td>0</td>\n",
       "      <td>27.24</td>\n",
       "      <td>6.2</td>\n",
       "      <td>160</td>\n",
       "      <td>0</td>\n",
       "    </tr>\n",
       "  </tbody>\n",
       "</table>\n",
       "</div>"
      ],
      "text/plain": [
       "       gender   age  hypertension  heart_disease    bmi  HbA1c_level  \\\n",
       "50974  Female  80.0             0              0  27.32          6.1   \n",
       "62503    Male  15.0             0              0  19.89          6.6   \n",
       "306    Female  80.0             0              1  21.30          5.0   \n",
       "86797  Female  25.0             0              0  27.32          4.0   \n",
       "3762     Male  17.0             0              0  27.24          6.2   \n",
       "\n",
       "       blood_glucose_level  diabetes  \n",
       "50974                  159         0  \n",
       "62503                  159         0  \n",
       "306                    159         0  \n",
       "86797                  130         0  \n",
       "3762                   160         0  "
      ]
     },
     "execution_count": 35,
     "metadata": {},
     "output_type": "execute_result"
    }
   ],
   "source": [
    "diabetes.head()"
   ]
  },
  {
   "cell_type": "code",
   "execution_count": 36,
   "metadata": {
    "id": "czCObYv6pjZa"
   },
   "outputs": [],
   "source": [
    "# diabetes['gender'].replace(['Female','Male'],[0,1],inplace = True)"
   ]
  },
  {
   "cell_type": "code",
   "execution_count": 37,
   "metadata": {
    "colab": {
     "base_uri": "https://localhost:8080/"
    },
    "id": "WMZOHIMIpjZa",
    "outputId": "b512b721-899b-4bea-b041-0bceb8a1a972"
   },
   "outputs": [
    {
     "data": {
      "text/plain": [
       "array([0, 1])"
      ]
     },
     "execution_count": 37,
     "metadata": {},
     "output_type": "execute_result"
    }
   ],
   "source": [
    "from sklearn.preprocessing import LabelEncoder\n",
    "lable_encoder = LabelEncoder()\n",
    "diabetes['gender'] = lable_encoder.fit_transform(diabetes['gender'])\n",
    "diabetes['gender'].unique()"
   ]
  },
  {
   "cell_type": "code",
   "execution_count": 38,
   "metadata": {
    "colab": {
     "base_uri": "https://localhost:8080/",
     "height": 206
    },
    "id": "ZMcTfrnkpjZb",
    "outputId": "6eb6f242-136b-4bc2-f164-55de1280645d"
   },
   "outputs": [
    {
     "data": {
      "text/html": [
       "<div>\n",
       "<style scoped>\n",
       "    .dataframe tbody tr th:only-of-type {\n",
       "        vertical-align: middle;\n",
       "    }\n",
       "\n",
       "    .dataframe tbody tr th {\n",
       "        vertical-align: top;\n",
       "    }\n",
       "\n",
       "    .dataframe thead th {\n",
       "        text-align: right;\n",
       "    }\n",
       "</style>\n",
       "<table border=\"1\" class=\"dataframe\">\n",
       "  <thead>\n",
       "    <tr style=\"text-align: right;\">\n",
       "      <th></th>\n",
       "      <th>gender</th>\n",
       "      <th>age</th>\n",
       "      <th>hypertension</th>\n",
       "      <th>heart_disease</th>\n",
       "      <th>bmi</th>\n",
       "      <th>HbA1c_level</th>\n",
       "      <th>blood_glucose_level</th>\n",
       "      <th>diabetes</th>\n",
       "    </tr>\n",
       "  </thead>\n",
       "  <tbody>\n",
       "    <tr>\n",
       "      <th>50974</th>\n",
       "      <td>0</td>\n",
       "      <td>80.0</td>\n",
       "      <td>0</td>\n",
       "      <td>0</td>\n",
       "      <td>27.32</td>\n",
       "      <td>6.1</td>\n",
       "      <td>159</td>\n",
       "      <td>0</td>\n",
       "    </tr>\n",
       "    <tr>\n",
       "      <th>62503</th>\n",
       "      <td>1</td>\n",
       "      <td>15.0</td>\n",
       "      <td>0</td>\n",
       "      <td>0</td>\n",
       "      <td>19.89</td>\n",
       "      <td>6.6</td>\n",
       "      <td>159</td>\n",
       "      <td>0</td>\n",
       "    </tr>\n",
       "    <tr>\n",
       "      <th>306</th>\n",
       "      <td>0</td>\n",
       "      <td>80.0</td>\n",
       "      <td>0</td>\n",
       "      <td>1</td>\n",
       "      <td>21.30</td>\n",
       "      <td>5.0</td>\n",
       "      <td>159</td>\n",
       "      <td>0</td>\n",
       "    </tr>\n",
       "    <tr>\n",
       "      <th>86797</th>\n",
       "      <td>0</td>\n",
       "      <td>25.0</td>\n",
       "      <td>0</td>\n",
       "      <td>0</td>\n",
       "      <td>27.32</td>\n",
       "      <td>4.0</td>\n",
       "      <td>130</td>\n",
       "      <td>0</td>\n",
       "    </tr>\n",
       "    <tr>\n",
       "      <th>3762</th>\n",
       "      <td>1</td>\n",
       "      <td>17.0</td>\n",
       "      <td>0</td>\n",
       "      <td>0</td>\n",
       "      <td>27.24</td>\n",
       "      <td>6.2</td>\n",
       "      <td>160</td>\n",
       "      <td>0</td>\n",
       "    </tr>\n",
       "  </tbody>\n",
       "</table>\n",
       "</div>"
      ],
      "text/plain": [
       "       gender   age  hypertension  heart_disease    bmi  HbA1c_level  \\\n",
       "50974       0  80.0             0              0  27.32          6.1   \n",
       "62503       1  15.0             0              0  19.89          6.6   \n",
       "306         0  80.0             0              1  21.30          5.0   \n",
       "86797       0  25.0             0              0  27.32          4.0   \n",
       "3762        1  17.0             0              0  27.24          6.2   \n",
       "\n",
       "       blood_glucose_level  diabetes  \n",
       "50974                  159         0  \n",
       "62503                  159         0  \n",
       "306                    159         0  \n",
       "86797                  130         0  \n",
       "3762                   160         0  "
      ]
     },
     "execution_count": 38,
     "metadata": {},
     "output_type": "execute_result"
    }
   ],
   "source": [
    "diabetes.head()"
   ]
  },
  {
   "cell_type": "code",
   "execution_count": 39,
   "metadata": {
    "colab": {
     "base_uri": "https://localhost:8080/",
     "height": 577
    },
    "id": "ERvMHgKLpjZb",
    "outputId": "49843d1b-2c6d-4b9d-e5bc-5424df6e0f92"
   },
   "outputs": [
    {
     "data": {
      "text/plain": [
       "<Axes: >"
      ]
     },
     "execution_count": 39,
     "metadata": {},
     "output_type": "execute_result"
    },
    {
     "data": {
      "image/png": "[encoded data removed]",
      "text/plain": [
       "<Figure size 640x480 with 2 Axes>"
      ]
     },
     "metadata": {},
     "output_type": "display_data"
    }
   ],
   "source": [
    "import seaborn as sns\n",
    "\n",
    "sns.heatmap(diabetes[['diabetes','age','bmi','HbA1c_level','blood_glucose_level','gender','heart_disease']].corr(),annot = True)"
   ]
  },
  {
   "cell_type": "code",
   "execution_count": 40,
   "metadata": {
    "colab": {
     "base_uri": "https://localhost:8080/",
     "height": 447
    },
    "id": "1XO99kJbpjZb",
    "outputId": "3f352e6f-3e6e-4fec-e119-03e0e1bbea77"
   },
   "outputs": [
    {
     "data": {
      "text/plain": [
       "<Axes: >"
      ]
     },
     "execution_count": 40,
     "metadata": {},
     "output_type": "execute_result"
    },
    {
     "data": {
      "image/png": "[encoded data removed]",
      "text/plain": [
       "<Figure size 640x480 with 1 Axes>"
      ]
     },
     "metadata": {},
     "output_type": "display_data"
    }
   ],
   "source": [
    "sns.boxplot(diabetes)"
   ]
  },
  {
   "cell_type": "markdown",
   "metadata": {
    "colab": {
     "base_uri": "https://localhost:8080/"
    },
    "id": "-n3dDg3FpjZc",
    "outputId": "00ec0dce-2b24-4114-f358-42edfd60d85a"
   },
   "source": [
    "import numpy as np\n",
    "\n",
    "# Assuming 'bmi' is the name of the column containing the BMI values in your DataFrame\n",
    "bmi_values = diabetes['bmi']\n",
    "\n",
    "# Calculate the first quartile (Q1) and third quartile (Q3)\n",
    "Q1 = np.percentile(bmi_values, 25)\n",
    "Q3 = np.percentile(bmi_values, 75)\n",
    "\n",
    "# Calculate the interquartile range (IQR)\n",
    "IQR = Q3 - Q1\n",
    "\n",
    "# Define the outlier bounds\n",
    "lower_bound = Q1 - 1.5 * IQR\n",
    "upper_bound = Q3 + 1.5 * IQR\n",
    "\n",
    "# Count the number of outliers\n",
    "outliers_count = sum((bmi_values < lower_bound) | (bmi_values > upper_bound))\n",
    "\n",
    "print(\"Number of outliers in BMI feature:\", outliers_count)\n"
   ]
  },
  {
   "cell_type": "code",
   "execution_count": 41,
   "metadata": {
    "colab": {
     "base_uri": "https://localhost:8080/"
    },
    "id": "5cMSonS_pjZc",
    "outputId": "7379a2c7-4687-41bb-9417-8434c674599b"
   },
   "outputs": [
    {
     "name": "stdout",
     "output_type": "stream",
     "text": [
      "<class 'pandas.core.frame.DataFrame'>\n",
      "Index: 17000 entries, 50974 to 99979\n",
      "Data columns (total 8 columns):\n",
      " #   Column               Non-Null Count  Dtype  \n",
      "---  ------               --------------  -----  \n",
      " 0   gender               17000 non-null  int32  \n",
      " 1   age                  17000 non-null  float64\n",
      " 2   hypertension         17000 non-null  int64  \n",
      " 3   heart_disease        17000 non-null  int64  \n",
      " 4   bmi                  17000 non-null  float64\n",
      " 5   HbA1c_level          17000 non-null  float64\n",
      " 6   blood_glucose_level  17000 non-null  int64  \n",
      " 7   diabetes             17000 non-null  int64  \n",
      "dtypes: float64(3), int32(1), int64(4)\n",
      "memory usage: 1.1 MB\n"
     ]
    }
   ],
   "source": [
    "diabetes.info()"
   ]
  },
  {
   "cell_type": "markdown",
   "metadata": {
    "id": "AQtucozQpjZd"
   },
   "source": [
    "Imputing Outliers"
   ]
  },
  {
   "cell_type": "markdown",
   "metadata": {
    "colab": {
     "base_uri": "https://localhost:8080/"
    },
    "id": "-5LffaWcpjZd",
    "outputId": "4f3bc883-d96d-4b51-fb49-682b47418580"
   },
   "source": [
    "import numpy as np\n",
    "\n",
    "# Calculate the first quartile (Q1) and third quartile (Q3)\n",
    "Q1 = np.percentile(diabetes['bmi'], 25)\n",
    "Q3 = np.percentile(diabetes['bmi'], 75)\n",
    "\n",
    "# Calculate the interquartile range (IQR)\n",
    "IQR = Q3 - Q1\n",
    "\n",
    "# Define the outlier bounds\n",
    "lower_bound = Q1 - 1.5 * IQR\n",
    "upper_bound = Q3 + 1.5 * IQR\n",
    "\n",
    "# Filter the DataFrame to remove outliers\n",
    "diabetes_cleaned = diabetes[(diabetes['bmi'] >= lower_bound) & (diabetes['bmi'] <= upper_bound)]\n",
    "\n",
    "# Print the shape of the cleaned DataFrame to see how many outliers were removed\n",
    "print(\"Shape of original DataFrame:\", diabetes.shape)\n",
    "print(\"Shape of cleaned DataFrame:\", diabetes_cleaned.shape)\n"
   ]
  },
  {
   "cell_type": "markdown",
   "metadata": {
    "colab": {
     "base_uri": "https://localhost:8080/",
     "height": 447
    },
    "id": "mP0ToklgpjZe",
    "outputId": "a625da65-df3b-4c9d-83d5-77c9bbc95ab9"
   },
   "source": [
    "sns.boxplot(diabetes_cleaned)"
   ]
  },
  {
   "cell_type": "code",
   "execution_count": 42,
   "metadata": {
    "id": "t_PST5CWpjZe"
   },
   "outputs": [],
   "source": [
    "X = diabetes.drop(['diabetes'], axis = 1)\n",
    "y = diabetes['diabetes']"
   ]
  },
  {
   "cell_type": "code",
   "execution_count": 43,
   "metadata": {
    "colab": {
     "base_uri": "https://localhost:8080/",
     "height": 206
    },
    "id": "30qcmpwFpjZe",
    "outputId": "c8329c55-dd0a-4b8c-b25b-0f7194b6b3b2"
   },
   "outputs": [
    {
     "data": {
      "text/html": [
       "<div>\n",
       "<style scoped>\n",
       "    .dataframe tbody tr th:only-of-type {\n",
       "        vertical-align: middle;\n",
       "    }\n",
       "\n",
       "    .dataframe tbody tr th {\n",
       "        vertical-align: top;\n",
       "    }\n",
       "\n",
       "    .dataframe thead th {\n",
       "        text-align: right;\n",
       "    }\n",
       "</style>\n",
       "<table border=\"1\" class=\"dataframe\">\n",
       "  <thead>\n",
       "    <tr style=\"text-align: right;\">\n",
       "      <th></th>\n",
       "      <th>gender</th>\n",
       "      <th>age</th>\n",
       "      <th>hypertension</th>\n",
       "      <th>heart_disease</th>\n",
       "      <th>bmi</th>\n",
       "      <th>HbA1c_level</th>\n",
       "      <th>blood_glucose_level</th>\n",
       "    </tr>\n",
       "  </thead>\n",
       "  <tbody>\n",
       "    <tr>\n",
       "      <th>50974</th>\n",
       "      <td>0</td>\n",
       "      <td>80.0</td>\n",
       "      <td>0</td>\n",
       "      <td>0</td>\n",
       "      <td>27.32</td>\n",
       "      <td>6.1</td>\n",
       "      <td>159</td>\n",
       "    </tr>\n",
       "    <tr>\n",
       "      <th>62503</th>\n",
       "      <td>1</td>\n",
       "      <td>15.0</td>\n",
       "      <td>0</td>\n",
       "      <td>0</td>\n",
       "      <td>19.89</td>\n",
       "      <td>6.6</td>\n",
       "      <td>159</td>\n",
       "    </tr>\n",
       "    <tr>\n",
       "      <th>306</th>\n",
       "      <td>0</td>\n",
       "      <td>80.0</td>\n",
       "      <td>0</td>\n",
       "      <td>1</td>\n",
       "      <td>21.30</td>\n",
       "      <td>5.0</td>\n",
       "      <td>159</td>\n",
       "    </tr>\n",
       "    <tr>\n",
       "      <th>86797</th>\n",
       "      <td>0</td>\n",
       "      <td>25.0</td>\n",
       "      <td>0</td>\n",
       "      <td>0</td>\n",
       "      <td>27.32</td>\n",
       "      <td>4.0</td>\n",
       "      <td>130</td>\n",
       "    </tr>\n",
       "    <tr>\n",
       "      <th>3762</th>\n",
       "      <td>1</td>\n",
       "      <td>17.0</td>\n",
       "      <td>0</td>\n",
       "      <td>0</td>\n",
       "      <td>27.24</td>\n",
       "      <td>6.2</td>\n",
       "      <td>160</td>\n",
       "    </tr>\n",
       "  </tbody>\n",
       "</table>\n",
       "</div>"
      ],
      "text/plain": [
       "       gender   age  hypertension  heart_disease    bmi  HbA1c_level  \\\n",
       "50974       0  80.0             0              0  27.32          6.1   \n",
       "62503       1  15.0             0              0  19.89          6.6   \n",
       "306         0  80.0             0              1  21.30          5.0   \n",
       "86797       0  25.0             0              0  27.32          4.0   \n",
       "3762        1  17.0             0              0  27.24          6.2   \n",
       "\n",
       "       blood_glucose_level  \n",
       "50974                  159  \n",
       "62503                  159  \n",
       "306                    159  \n",
       "86797                  130  \n",
       "3762                   160  "
      ]
     },
     "execution_count": 43,
     "metadata": {},
     "output_type": "execute_result"
    }
   ],
   "source": [
    "X.head()"
   ]
  },
  {
   "cell_type": "code",
   "execution_count": 44,
   "metadata": {
    "colab": {
     "base_uri": "https://localhost:8080/",
     "height": 241
    },
    "id": "2oBRCFwGpjZf",
    "outputId": "5be0bafd-7e66-4ef5-df79-4dc870025841"
   },
   "outputs": [
    {
     "data": {
      "text/plain": [
       "50974    0\n",
       "62503    0\n",
       "306      0\n",
       "86797    0\n",
       "3762     0\n",
       "Name: diabetes, dtype: int64"
      ]
     },
     "execution_count": 44,
     "metadata": {},
     "output_type": "execute_result"
    }
   ],
   "source": [
    "y.head()"
   ]
  },
  {
   "cell_type": "code",
   "execution_count": 45,
   "metadata": {
    "id": "V7bpzfy0pjZf"
   },
   "outputs": [],
   "source": [
    "from sklearn.model_selection import train_test_split\n",
    "\n",
    "X_train,X_test,y_train,y_test = train_test_split(X,y,train_size = 0.6,random_state=42)"
   ]
  },
  {
   "cell_type": "markdown",
   "metadata": {
    "id": "9InQA76spjZf"
   },
   "source": [
    "from sklearn import preprocessing\n",
    "stand = preprocessing.StandardScaler()\n",
    "X_train = stand.fit_transform(X_train)\n",
    "X_test = stand.transform(X_test)"
   ]
  },
  {
   "cell_type": "code",
   "execution_count": 46,
   "metadata": {
    "colab": {
     "base_uri": "https://localhost:8080/"
    },
    "id": "CHyMsaITpjZf",
    "outputId": "b02709a7-b0af-4ee3-ba7c-4a85d5c71fec"
   },
   "outputs": [
    {
     "name": "stdout",
     "output_type": "stream",
     "text": [
      "Epoch 1/100\n",
      "319/319 [==============================] - 2s 3ms/step - loss: 0.6669 - accuracy: 0.5680 - val_loss: 0.6222 - val_accuracy: 0.6132\n",
      "Epoch 2/100\n",
      "319/319 [==============================] - 1s 2ms/step - loss: 0.6039 - accuracy: 0.6491 - val_loss: 0.5845 - val_accuracy: 0.7182\n",
      "Epoch 3/100\n",
      "319/319 [==============================] - 1s 2ms/step - loss: 0.5686 - accuracy: 0.7187 - val_loss: 0.5542 - val_accuracy: 0.7315\n",
      "Epoch 4/100\n",
      "319/319 [==============================] - 1s 3ms/step - loss: 0.5444 - accuracy: 0.7321 - val_loss: 0.5350 - val_accuracy: 0.7363\n",
      "Epoch 5/100\n",
      "319/319 [==============================] - 1s 3ms/step - loss: 0.5237 - accuracy: 0.7555 - val_loss: 0.5141 - val_accuracy: 0.7725\n",
      "Epoch 6/100\n",
      "319/319 [==============================] - 1s 2ms/step - loss: 0.5030 - accuracy: 0.7827 - val_loss: 0.4943 - val_accuracy: 0.7913\n",
      "Epoch 7/100\n",
      "319/319 [==============================] - 1s 2ms/step - loss: 0.4816 - accuracy: 0.7996 - val_loss: 0.4820 - val_accuracy: 0.7868\n",
      "Epoch 8/100\n",
      "319/319 [==============================] - 1s 2ms/step - loss: 0.4616 - accuracy: 0.8135 - val_loss: 0.4566 - val_accuracy: 0.8153\n",
      "Epoch 9/100\n",
      "319/319 [==============================] - 1s 2ms/step - loss: 0.4427 - accuracy: 0.8225 - val_loss: 0.4379 - val_accuracy: 0.8294\n",
      "Epoch 10/100\n",
      "319/319 [==============================] - 1s 2ms/step - loss: 0.4244 - accuracy: 0.8340 - val_loss: 0.4181 - val_accuracy: 0.8378\n",
      "Epoch 11/100\n",
      "319/319 [==============================] - 1s 2ms/step - loss: 0.4081 - accuracy: 0.8392 - val_loss: 0.4014 - val_accuracy: 0.8440\n",
      "Epoch 12/100\n",
      "319/319 [==============================] - 1s 2ms/step - loss: 0.3931 - accuracy: 0.8447 - val_loss: 0.3872 - val_accuracy: 0.8472\n",
      "Epoch 13/100\n",
      "319/319 [==============================] - 1s 2ms/step - loss: 0.3789 - accuracy: 0.8485 - val_loss: 0.3740 - val_accuracy: 0.8487\n",
      "Epoch 14/100\n",
      "319/319 [==============================] - 1s 2ms/step - loss: 0.3672 - accuracy: 0.8533 - val_loss: 0.3618 - val_accuracy: 0.8553\n",
      "Epoch 15/100\n",
      "319/319 [==============================] - 1s 2ms/step - loss: 0.3557 - accuracy: 0.8575 - val_loss: 0.3574 - val_accuracy: 0.8606\n",
      "Epoch 16/100\n",
      "319/319 [==============================] - 1s 2ms/step - loss: 0.3465 - accuracy: 0.8555 - val_loss: 0.3413 - val_accuracy: 0.8632\n",
      "Epoch 17/100\n",
      "319/319 [==============================] - 1s 2ms/step - loss: 0.3387 - accuracy: 0.8611 - val_loss: 0.3387 - val_accuracy: 0.8638\n",
      "Epoch 18/100\n",
      "319/319 [==============================] - 1s 2ms/step - loss: 0.3293 - accuracy: 0.8655 - val_loss: 0.3255 - val_accuracy: 0.8685\n",
      "Epoch 19/100\n",
      "319/319 [==============================] - 1s 2ms/step - loss: 0.3219 - accuracy: 0.8662 - val_loss: 0.3196 - val_accuracy: 0.8629\n",
      "Epoch 20/100\n",
      "319/319 [==============================] - 1s 2ms/step - loss: 0.3152 - accuracy: 0.8689 - val_loss: 0.3197 - val_accuracy: 0.8713\n",
      "Epoch 21/100\n",
      "319/319 [==============================] - 1s 2ms/step - loss: 0.3099 - accuracy: 0.8699 - val_loss: 0.3052 - val_accuracy: 0.8725\n",
      "Epoch 22/100\n",
      "319/319 [==============================] - 1s 2ms/step - loss: 0.3053 - accuracy: 0.8701 - val_loss: 0.3004 - val_accuracy: 0.8726\n",
      "Epoch 23/100\n",
      "319/319 [==============================] - 1s 2ms/step - loss: 0.3008 - accuracy: 0.8715 - val_loss: 0.3030 - val_accuracy: 0.8759\n",
      "Epoch 24/100\n",
      "319/319 [==============================] - 1s 2ms/step - loss: 0.2986 - accuracy: 0.8696 - val_loss: 0.2936 - val_accuracy: 0.8806\n",
      "Epoch 25/100\n",
      "319/319 [==============================] - 1s 2ms/step - loss: 0.2913 - accuracy: 0.8734 - val_loss: 0.2921 - val_accuracy: 0.8800\n",
      "Epoch 26/100\n",
      "319/319 [==============================] - 1s 2ms/step - loss: 0.2910 - accuracy: 0.8722 - val_loss: 0.2838 - val_accuracy: 0.8809\n",
      "Epoch 27/100\n",
      "319/319 [==============================] - 1s 2ms/step - loss: 0.2859 - accuracy: 0.8742 - val_loss: 0.2806 - val_accuracy: 0.8800\n",
      "Epoch 28/100\n",
      "319/319 [==============================] - 1s 3ms/step - loss: 0.2837 - accuracy: 0.8737 - val_loss: 0.2806 - val_accuracy: 0.8825\n",
      "Epoch 29/100\n",
      "319/319 [==============================] - 1s 3ms/step - loss: 0.2797 - accuracy: 0.8791 - val_loss: 0.2863 - val_accuracy: 0.8774\n",
      "Epoch 30/100\n",
      "319/319 [==============================] - 1s 2ms/step - loss: 0.2783 - accuracy: 0.8757 - val_loss: 0.2782 - val_accuracy: 0.8826\n",
      "Epoch 31/100\n",
      "319/319 [==============================] - 1s 2ms/step - loss: 0.2764 - accuracy: 0.8781 - val_loss: 0.2712 - val_accuracy: 0.8832\n",
      "Epoch 32/100\n",
      "319/319 [==============================] - 1s 2ms/step - loss: 0.2764 - accuracy: 0.8772 - val_loss: 0.2723 - val_accuracy: 0.8826\n",
      "Epoch 33/100\n",
      "319/319 [==============================] - 1s 2ms/step - loss: 0.2743 - accuracy: 0.8765 - val_loss: 0.2756 - val_accuracy: 0.8815\n",
      "Epoch 34/100\n",
      "319/319 [==============================] - 1s 2ms/step - loss: 0.2696 - accuracy: 0.8824 - val_loss: 0.2672 - val_accuracy: 0.8831\n",
      "Epoch 35/100\n",
      "319/319 [==============================] - 1s 2ms/step - loss: 0.2695 - accuracy: 0.8799 - val_loss: 0.2711 - val_accuracy: 0.8797\n",
      "Epoch 36/100\n",
      "319/319 [==============================] - 1s 2ms/step - loss: 0.2688 - accuracy: 0.8783 - val_loss: 0.2718 - val_accuracy: 0.8771\n",
      "Epoch 37/100\n",
      "319/319 [==============================] - 1s 2ms/step - loss: 0.2662 - accuracy: 0.8774 - val_loss: 0.2685 - val_accuracy: 0.8828\n",
      "Epoch 37: early stopping\n"
     ]
    }
   ],
   "source": [
    "\n",
    "import tensorflow as tf\n",
    "from tensorflow import keras\n",
    "from keras.callbacks import EarlyStopping\n",
    "linear_model = tf.keras.models.Sequential()\n",
    "linear_model.add(tf.keras.layers.Dense(units = 6, activation = 'relu')) \n",
    "linear_model.add(tf.keras.layers.Dense(units = 6, activation = 'relu'))\n",
    "linear_model.add(tf.keras.layers.Dense(units = 1, activation = 'sigmoid'))\n",
    "linear_model.compile(optimizer = 'adam', loss = 'binary_crossentropy', metrics = ['accuracy'])\n",
    "early_stop = EarlyStopping(monitor='val_loss', patience=3, verbose=1)\n",
    "deep_history = linear_model.fit(X_train, y_train, epochs=100, \n",
    "                              validation_data = (X_test, y_test),\n",
    "                              callbacks=[early_stop])"
   ]
  },
  {
   "cell_type": "markdown",
   "metadata": {
    "id": "GC_aXBbZpjZg"
   },
   "source": [
    "linear_model.score(X_test, y_test)"
   ]
  },
  {
   "cell_type": "code",
   "execution_count": 47,
   "metadata": {
    "colab": {
     "base_uri": "https://localhost:8080/"
    },
    "id": "EJQTIbvLpjZg",
    "outputId": "6c22fc1b-5126-4322-a35a-d922575dea05"
   },
   "outputs": [
    {
     "name": "stdout",
     "output_type": "stream",
     "text": [
      "213/213 [==============================] - 1s 975us/step\n"
     ]
    }
   ],
   "source": [
    "predict = linear_model.predict(X_test)"
   ]
  },
  {
   "cell_type": "markdown",
   "metadata": {
    "id": "V4KnCxfey6IT"
   },
   "source": [
    "case_predict = linear_model.predict([[0 ,20.0 ,0 ,0 ,36.96 ,6.6 ,200 ]])\n",
    "print(case_predict)\n",
    "if case_predict==1:\n",
    "    print(\"Diabetic\")\n",
    "else:\n",
    "    print(\"Non Diabetic\")"
   ]
  },
  {
   "cell_type": "code",
   "execution_count": 48,
   "metadata": {
    "colab": {
     "base_uri": "https://localhost:8080/"
    },
    "id": "ifMFaff1pjZh",
    "outputId": "c820b9a2-b6b4-449c-90af-960b80f07794"
   },
   "outputs": [
    {
     "name": "stdout",
     "output_type": "stream",
     "text": [
      "[[0.989361  ]\n",
      " [0.53610265]\n",
      " [0.9974514 ]\n",
      " ...\n",
      " [0.60175854]\n",
      " [0.00415398]\n",
      " [0.0331062 ]]\n"
     ]
    }
   ],
   "source": [
    "print(predict)"
   ]
  },
  {
   "cell_type": "code",
   "execution_count": null,
   "metadata": {
    "id": "KXseib3GpjZh"
   },
   "outputs": [],
   "source": []
  },
  {
   "cell_type": "code",
   "execution_count": null,
   "metadata": {
    "id": "ox22hK1TpjZh"
   },
   "outputs": [],
   "source": []
  },
  {
   "cell_type": "code",
   "execution_count": 49,
   "metadata": {
    "id": "PfrcpW5hpjZi"
   },
   "outputs": [
    {
     "name": "stdout",
     "output_type": "stream",
     "text": [
      "INFO:tensorflow:Assets written to: ram://6e922698-8840-45c8-8e12-e86c5535e45c/assets\n"
     ]
    }
   ],
   "source": [
    "import pickle\n",
    "\n",
    "#saving the model and encoder\n",
    "\n",
    "data = {\"linear_model\": linear_model,\"lable_encoder\": lable_encoder }\n",
    "with open('linear_regression_model3.pkl','wb') as file:\n",
    "    pickle.dump(data,file)"
   ]
  },
  {
   "cell_type": "code",
   "execution_count": 50,
   "metadata": {
    "colab": {
     "base_uri": "https://localhost:8080/"
    },
    "id": "ZoEieiELpjZi",
    "outputId": "c54e65bd-0576-4ea9-a642-4877a51c7b42"
   },
   "outputs": [
    {
     "name": "stdout",
     "output_type": "stream",
     "text": [
      "INFO:tensorflow:Assets written to: ram://6423f273-140d-43ec-8ee9-988e25c70f34/assets\n"
     ]
    },
    {
     "data": {
      "text/plain": [
       "['linear_regression_model.pkl']"
      ]
     },
     "execution_count": 50,
     "metadata": {},
     "output_type": "execute_result"
    }
   ],
   "source": [
    "import joblib\n",
    "joblib.dump(linear_model,'linear_regression_model.pkl')"
   ]
  },
  {
   "cell_type": "code",
   "execution_count": 51,
   "metadata": {
    "colab": {
     "base_uri": "https://localhost:8080/"
    },
    "id": "9DkqMLX_pjZq",
    "outputId": "8adfa940-7c41-45b9-b675-fb110bb08bde"
   },
   "outputs": [],
   "source": [
    "import tensorflow as tf\n",
    "path = './model.h5'\n",
    "linear_model.save(path )\n",
    "loaded_model= tf.keras.models.load_model(path )\n"
   ]
  }
 ],
 "metadata": {
  "colab": {
   "provenance": []
  },
  "kernelspec": {
   "display_name": "ai4",
   "language": "python",
   "name": "python3"
  },
  "language_info": {
   "codemirror_mode": {
    "name": "ipython",
    "version": 3
   },
   "file_extension": ".py",
   "mimetype": "text/x-python",
   "name": "python",
   "nbconvert_exporter": "python",
   "pygments_lexer": "ipython3",
   "version": "3.10.13"
  }
 },
 "nbformat": 4,
 "nbformat_minor": 0
}
